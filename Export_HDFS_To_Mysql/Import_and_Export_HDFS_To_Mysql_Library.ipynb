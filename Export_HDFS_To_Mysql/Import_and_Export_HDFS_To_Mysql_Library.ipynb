{
  "cells": [
    {
      "cell_type": "markdown",
      "metadata": {
        "id": "view-in-github",
        "colab_type": "text"
      },
      "source": [
        "<a href=\"https://colab.research.google.com/github/Anilesh05/Anilesh/blob/main/Export_HDFS_To_Mysql.ipynb\" target=\"_parent\"><img src=\"https://colab.research.google.com/assets/colab-badge.svg\" alt=\"Open In Colab\"/></a>"
      ]
    },
    {
      "cell_type": "markdown",
      "metadata": {
        "id": "vGkDFef-3zQh"
      },
      "source": [
        "# ***Installing jdk and hadoop***"
      ]
    },
    {
      "cell_type": "code",
      "execution_count": null,
      "metadata": {
        "id": "KoauV0adsTkV"
      },
      "outputs": [],
      "source": [
        "!apt-get install openjdk-8-jdk\n",
        "!wget https://dlcdn.apache.org/hadoop/common/hadoop-2.10.2/hadoop-2.10.2.tar.gz\n",
        "!tar xf hadoop-2.10.2.tar.gz\n",
        "\n",
        "import os\n",
        "os.environ[\"JAVA_HOME\"] = \"/usr/lib/jvm/java-8-openjdk-amd64\"\n",
        "os.environ[\"HADOOP_HOME\"] = \"/content/hadoop-2.10.2\"\n",
        "os.environ[\"HADOOP_COMMON_HOME\"] = \"/content/hadoop-2.10.2\"\n",
        "os.environ[\"HADOOP_MAPRED_HOME\"] = \"/content/hadoop-2.10.2\"\n",
        "os.environ[\"PATH\"] = os.environ[\"HADOOP_HOME\"] + \"/bin:\" + os.environ[\"PATH\"]\n"
      ]
    },
    {
      "cell_type": "markdown",
      "metadata": {
        "id": "JNqdcQ1I3hur"
      },
      "source": [
        "# ***Installing sqoop***"
      ]
    },
    {
      "cell_type": "code",
      "execution_count": null,
      "metadata": {
        "id": "iefFNUqSyTdV"
      },
      "outputs": [],
      "source": [
        "!wget https://archive.apache.org/dist/sqoop/1.4.6/sqoop-1.4.6.bin__hadoop-2.0.4-alpha.tar.gz\n",
        "!tar -xvf sqoop-1.4.6.bin__hadoop-2.0.4-alpha.tar.gz\n",
        "\n",
        "import os\n",
        "os.environ[\"SQOOP_HOME\"] = \"/content/sqoop-1.4.6.bin__hadoop-2.0.4-alpha\"\n",
        "os.environ[\"PATH\"] = os.environ[\"SQOOP_HOME\"] + \"/bin:\" + os.environ[\"PATH\"]\n",
        "\n",
        "!cp /content/sqoop-1.4.6.bin__hadoop-2.0.4-alpha/conf/sqoop-env-template.sh /content/sqoop-1.4.6.bin__hadoop-2.0.4-alpha/conf/sqoop-env.sh\n",
        "!echo \"export HADOOP_COMMON_HOME=/content/hadoop-2.10.2\" >> /content/sqoop-1.4.6.bin__hadoop-2.0.4-alpha/conf/sqoop-env.sh\n",
        "!echo \"export HADOOP_MAPRED_HOME=/content/hadoop-2.10.2\" >> /content/sqoop-1.4.6.bin__hadoop-2.0.4-alpha/sqoop-env.sh"
      ]
    },
    {
      "cell_type": "markdown",
      "metadata": {
        "id": "fbP_r2Gz3NKE"
      },
      "source": [
        "# ***Installing Mysql-Connector***"
      ]
    },
    {
      "cell_type": "code",
      "execution_count": null,
      "metadata": {
        "id": "R2NGGvtzyhjb"
      },
      "outputs": [],
      "source": [
        "!wget https://dev.mysql.com/get/Downloads/Connector-J/mysql-connector-j-8.3.0.tar.gz\n",
        "!tar xf mysql-connector-j-8.3.0.tar.gz\n",
        "!cp /content/mysql-connector-j-8.3.0/mysql-connector-j-8.3.0.jar /content/sqoop-1.4.6.bin__hadoop-2.0.4-alpha/lib"
      ]
    },
    {
      "cell_type": "markdown",
      "metadata": {
        "id": "I87znuwZ2f9b"
      },
      "source": [
        "# ***Installing Mysql Server***\n"
      ]
    },
    {
      "cell_type": "code",
      "execution_count": null,
      "metadata": {
        "id": "rlhJFIe-yltk"
      },
      "outputs": [],
      "source": [
        "!apt-get -y install mysql-server\n",
        "!service mysql start\n",
        "!pip install mysql-connector-python\n",
        "!mysql -e \"ALTER USER 'root'@'localhost' IDENTIFIED WITH 'mysql_native_password' BY 'root';FLUSH PRIVILEGES;\""
      ]
    },
    {
      "cell_type": "code",
      "execution_count": null,
      "metadata": {
        "id": "dwMFRwwWy8Zm"
      },
      "outputs": [],
      "source": [
        "!java -version\n",
        "!hadoop version\n",
        "!mysql --version\n",
        "!sqoop version"
      ]
    },
    {
      "cell_type": "code",
      "execution_count": null,
      "metadata": {
        "id": "eOJaeV2Ly-bZ"
      },
      "outputs": [],
      "source": [
        "!hdfs dfs -mkdir input"
      ]
    },
    {
      "cell_type": "code",
      "source": [
        "import mysql.connector\n",
        "from tabulate import tabulate\n",
        "\n",
        "conn = mysql.connector.connect(user='root', password='root', host='localhost', port='3306')\n",
        "\n",
        "cursor = conn.cursor()\n",
        "\n",
        "cursor.execute(\"CREATE DATABASE IF NOT EXISTS Mysql_DB\")\n",
        "\n",
        "cursor.execute(\"USE Mysql_DB\")\n",
        "\n",
        "create_table_query = '''CREATE TABLE EMPLOYEE (\n",
        "   ID INT,\n",
        "   FIRST_NAME CHAR(20) NOT NULL,\n",
        "   LAST_NAME CHAR(20),\n",
        "   DEPT CHAR(20),\n",
        "   YEAR INT,\n",
        "   EMAIL CHAR(50)\n",
        ")'''\n",
        "cursor.execute(create_table_query)\n",
        "\n",
        "conn.commit()\n",
        "\n",
        "cursor.execute(\"SELECT * FROM EMPLOYEE\")\n",
        "\n",
        "result = cursor.fetchall()\n",
        "\n",
        "columns = [desc[0] for desc in cursor.description]\n",
        "\n",
        "print(tabulate(result, headers=columns, tablefmt=\"grid\"))\n",
        "\n",
        "\n",
        "cursor.close()\n",
        "conn.close()"
      ],
      "metadata": {
        "id": "8-RoG0As1I29"
      },
      "execution_count": null,
      "outputs": []
    },
    {
      "cell_type": "code",
      "source": [
        "%%writefile database.txt\n",
        "1,Anilesh,C,BCA(DS),2,anil@gmail.com\n",
        "2,Anilesh,C,BCA(DS),2,anil@gmail.com\n",
        "3,Anilesh,C,BCA(DS),2,anil@gmail.com"
      ],
      "metadata": {
        "id": "L6OMmvgihMZR"
      },
      "execution_count": null,
      "outputs": []
    },
    {
      "cell_type": "code",
      "source": [
        "!cat /content/database.txt"
      ],
      "metadata": {
        "id": "kIcJSEz0nIwj"
      },
      "execution_count": null,
      "outputs": []
    },
    {
      "cell_type": "code",
      "source": [
        "!hdfs dfs -mv /content/database.txt  input/export_table"
      ],
      "metadata": {
        "id": "XZg3FUIZojmj"
      },
      "execution_count": null,
      "outputs": []
    },
    {
      "cell_type": "code",
      "source": [
        "!hdfs dfs -cat input/export_table/"
      ],
      "metadata": {
        "id": "1U4IX4SDo5K5"
      },
      "execution_count": null,
      "outputs": []
    },
    {
      "cell_type": "code",
      "execution_count": null,
      "metadata": {
        "id": "JxTRmIt5zXMK"
      },
      "outputs": [],
      "source": [
        "!sqoop export \\\n",
        "  --connect jdbc:mysql://localhost:3306/Mysql_DB \\\n",
        "  --username root \\\n",
        "  --password root \\\n",
        "  --table EMPLOYEE \\\n",
        "  --export-dir input/export_table \\\n",
        "  --m 1"
      ]
    },
    {
      "cell_type": "code",
      "source": [
        "conn = mysql.connector.connect(user='root', password='root', host='localhost', port='3306', database='Mysql_DB')\n",
        "\n",
        "cursor = conn.cursor()\n",
        "\n",
        "cursor.execute(\"SELECT * FROM EMPLOYEE\")\n",
        "\n",
        "result = cursor.fetchall()\n",
        "\n",
        "columns = [desc[0] for desc in cursor.description]\n",
        "\n",
        "print(tabulate(result, headers=columns, tablefmt=\"grid\"))"
      ],
      "metadata": {
        "id": "HHc6E-gL8Rwe"
      },
      "execution_count": null,
      "outputs": []
    }
  ],
  "metadata": {
    "colab": {
      "provenance": [],
      "authorship_tag": "ABX9TyOiA7zbvZwXJI4jdGsFNiJy",
      "include_colab_link": true
    },
    "kernelspec": {
      "display_name": "Python 3",
      "name": "python3"
    },
    "language_info": {
      "name": "python"
    }
  },
  "nbformat": 4,
  "nbformat_minor": 0
}
