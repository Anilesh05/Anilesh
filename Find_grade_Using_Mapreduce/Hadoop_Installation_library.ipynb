{
  "nbformat": 4,
  "nbformat_minor": 0,
  "metadata": {
    "colab": {
      "provenance": [],
      "authorship_tag": "ABX9TyMkDUr/OTqjGr88xral/4HI",
      "include_colab_link": true
    },
    "kernelspec": {
      "name": "python3",
      "display_name": "Python 3"
    },
    "language_info": {
      "name": "python"
    }
  },
  "cells": [
    {
      "cell_type": "markdown",
      "metadata": {
        "id": "view-in-github",
        "colab_type": "text"
      },
      "source": [
        "<a href=\"https://colab.research.google.com/github/Anilesh05/Anilesh/blob/main/Find_grade_Using_Mapreduce.ipynb\" target=\"_parent\"><img src=\"https://colab.research.google.com/assets/colab-badge.svg\" alt=\"Open In Colab\"/></a>"
      ]
    },
    {
      "cell_type": "markdown",
      "source": [
        "# ***Download and install hadoop***\n"
      ],
      "metadata": {
        "id": "Zi9bK5z88-Pc"
      }
    },
    {
      "cell_type": "code",
      "execution_count": null,
      "metadata": {
        "id": "Gp7HsNH56ldg"
      },
      "outputs": [],
      "source": [
        "!apt-get install openjdk-8-jdk\n",
        "!wget https://dlcdn.apache.org/hadoop/common/hadoop-3.3.6/hadoop-3.3.6.tar.gz\n",
        "!tar fx hadoop-3.3.6.tar.gz\n",
        "import os\n",
        "os.environ[\"JAVA_HOME\"] = \"/usr/lib/jvm/java-8-openjdk-amd64\"\n",
        "os.environ[\"HADOOP_HOME\"] = \"/content/hadoop-3.3.6\"\n",
        "!ln -s /content/hadoop-3.3.6/bin/* /usr/bin"
      ]
    },
    {
      "cell_type": "code",
      "source": [
        "%%writefile mapper.py\n",
        "#!/usr/bin/env python\n",
        "\n",
        "import sys\n",
        "\n",
        "for line in sys.stdin:\n",
        "    line = line.strip()\n",
        "\n",
        "    columns = line.split(',')\n",
        "\n",
        "    if len(columns) == 3:\n",
        "        student_id, name, marks = columns\n",
        "        total_marks = sum(map(float, [marks]))\n",
        "\n",
        "        if total_marks >= 90:\n",
        "            grade = \"A+\"\n",
        "        elif total_marks >= 80:\n",
        "            grade = \"A\"\n",
        "        elif total_marks >= 70:\n",
        "            grade = \"B+\"\n",
        "        elif total_marks >= 60:\n",
        "            grade = \"B\"\n",
        "        elif total_marks >= 50:\n",
        "            grade = \"C\"\n",
        "        else:\n",
        "            grade = \"U\"\n",
        "\n",
        "        print(f\"{student_id},{name},{total_marks},{grade}\")"
      ],
      "metadata": {
        "id": "NXvXT2u69FZs"
      },
      "execution_count": null,
      "outputs": []
    },
    {
      "cell_type": "code",
      "source": [
        "%%writefile reducer.py\n",
        "#!/usr/bin/env python\n",
        "\n",
        "import sys\n",
        "\n",
        "column_names = [\"S-ID\", \"Name\", \"Total Marks\", \"Grade\"]\n",
        "\n",
        "print('{:10} {:<11} {:<16} {:<15}'.format(*column_names))\n",
        "print()\n",
        "\n",
        "for line in sys.stdin:\n",
        "    line = line.strip()\n",
        "    student_id, name, total_marks, grade = line.split(',')\n",
        "    print(f\"{student_id:<10} {name:<15} {total_marks:<15} {grade}\")"
      ],
      "metadata": {
        "id": "vHgpwstaA8J9"
      },
      "execution_count": null,
      "outputs": []
    },
    {
      "cell_type": "code",
      "source": [
        "!hdfs dfs -mkdir input"
      ],
      "metadata": {
        "id": "mQtG3LtRBICN"
      },
      "execution_count": null,
      "outputs": []
    },
    {
      "cell_type": "code",
      "source": [
        "%%writefile input/marksheet.txt\n"
      ],
      "metadata": {
        "id": "1kuRzPvsBLvl"
      },
      "execution_count": null,
      "outputs": []
    },
    {
      "cell_type": "code",
      "source": [
        "!hadoop jar /content/hadoop-3.3.6/share/hadoop/tools/lib/hadoop-streaming-3.3.6.jar \\\n",
        "    -files mapper.py,reducer.py \\\n",
        "    -mapper mapper.py \\\n",
        "    -reducer reducer.py \\\n",
        "    -input input/marksheet.txt \\\n",
        "    -output output"
      ],
      "metadata": {
        "id": "Td6jgpHGBYZ2"
      },
      "execution_count": null,
      "outputs": []
    },
    {
      "cell_type": "code",
      "source": [
        "!cat output/part-00000"
      ],
      "metadata": {
        "id": "go_FpoLFBfV-"
      },
      "execution_count": null,
      "outputs": []
    }
  ]
}
