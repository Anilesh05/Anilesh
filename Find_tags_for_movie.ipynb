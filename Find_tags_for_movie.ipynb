{
  "nbformat": 4,
  "nbformat_minor": 0,
  "metadata": {
    "colab": {
      "provenance": [],
      "authorship_tag": "ABX9TyPI9SLm6Q+caTh04CvRzYaZ",
      "include_colab_link": true
    },
    "kernelspec": {
      "name": "python3",
      "display_name": "Python 3"
    },
    "language_info": {
      "name": "python"
    }
  },
  "cells": [
    {
      "cell_type": "markdown",
      "metadata": {
        "id": "view-in-github",
        "colab_type": "text"
      },
      "source": [
        "<a href=\"https://colab.research.google.com/github/Anilesh05/Anilesh/blob/main/Find_tags_for_movie.ipynb\" target=\"_parent\"><img src=\"https://colab.research.google.com/assets/colab-badge.svg\" alt=\"Open In Colab\"/></a>"
      ]
    },
    {
      "cell_type": "markdown",
      "source": [
        "# ***Downloading and installing hadoop***"
      ],
      "metadata": {
        "id": "Zi9bK5z88-Pc"
      }
    },
    {
      "cell_type": "code",
      "execution_count": null,
      "metadata": {
        "id": "Gp7HsNH56ldg"
      },
      "outputs": [],
      "source": [
        "!apt-get install openjdk-8-jdk\n",
        "!wget https://dlcdn.apache.org/hadoop/common/hadoop-3.3.6/hadoop-3.3.6.tar.gz\n",
        "!tar fx hadoop-3.3.6.tar.gz\n",
        "import os\n",
        "os.environ[\"JAVA_HOME\"] = \"/usr/lib/jvm/java-8-openjdk-amd64\"\n",
        "os.environ[\"HADOOP_HOME\"] = \"/content/hadoop-3.3.6\"\n",
        "!ln -s /content/hadoop-3.3.6/bin/* /usr/bin"
      ]
    },
    {
      "cell_type": "markdown",
      "source": [
        "# ***Create ' movie_lens_data.txt ' file***"
      ],
      "metadata": {
        "id": "yxYjNtCmCtud"
      }
    },
    {
      "cell_type": "code",
      "source": [
        "%%writefile movie_lens_data.txt\n",
        "\n",
        "UserID::MovieID::Moviename::Tag::Timestamp\n",
        "01::01::Spider-Man: No Way Home (2021)::action::1648847400\n",
        "01::01::Spider-Man: No Way Home (2021)::adventure::1648847400\n",
        "02::02::Dune (2021)::sci-fi::1648847400\n",
        "02::02::Dune (2021)::fantasy::1648847400\n",
        "03::03::The Matrix Resurrections (2021)::action::1648847400\n",
        "03::03::The Matrix Resurrections (2021)::sci-fi::1648847400\n",
        "04::04::Black Widow (2021)::action::1648847400\n",
        "04::04::Black Widow (2021)::adventure::1648847400\n",
        "05::05::Shang-Chi and the Legend of the Ten Rings (2021)::action::1648847400\n",
        "05::05::Shang-Chi and the Legend of the Ten Rings (2021)::fantasy::1648847400\n",
        "06::06::No Time to Die (2021)::action::1648847400\n",
        "06::06::No Time to Die (2021)::adventure::1648847400\n",
        "07::07::Eternals (2021)::action::1648847400\n",
        "07::07::Eternals (2021)::fantasy::1648847400\n",
        "08::08::Free Guy (2021)::comedy::1648847400\n",
        "08::08::Free Guy (2021)::adventure::1648847400\n",
        "09::09::Jungle Cruise (2021)::adventure::1648847400\n",
        "09::09::Jungle Cruise (2021)::fantasy::1648847400\n",
        "10::10::Venom: Let There Be Carnage (2021)::action::1648847400\n",
        "10::10::Venom: Let There Be Carnage (2021)::sci-fi::1648847400\n",
        "11::11::Inception (2010)::sci-fi::1648847400\n",
        "11::11::Inception (2010)::thriller::1648847400\n",
        "12::12::The Dark Knight (2008)::action::1648847400\n",
        "12::12::The Dark Knight (2008)::crime::1648847400\n",
        "13::13::Interstellar (2014)::sci-fi::1648847400\n",
        "13::13::Interstellar (2014)::adventure::1648847400\n",
        "14::14::Fight Club (1999)::drama::1648847400\n",
        "14::14::Fight Club (1999)::psychological::1648847400\n",
        "15::15::The Shawshank Redemption (1994)::drama::1648847400\n",
        "15::15::The Shawshank Redemption (1994)::inspirational::1648847400\n",
        "16::16::Pulp Fiction (1994)::crime::1648847400\n",
        "16::16::Pulp Fiction (1994)::black comedy::1648847400\n",
        "17::17::Forrest Gump (1994)::drama::1648847400\n",
        "17::17::Forrest Gump (1994)::romance::1648847400\n",
        "18::18::The Godfather (1972)::crime::1648847400\n",
        "18::18::The Godfather (1972)::mafia::1648847400\n",
        "19::19::The Lord of the Rings: The Fellowship of the Ring (2001)::fantasy::1648847400\n",
        "19::19::The Lord of the Rings: The Fellowship of the Ring (2001)::adventure::1648847400\n",
        "20::20::The Matrix (1999)::action::1648847400\n",
        "20::20::The Matrix (1999)::cyberpunk::1648847400\n"
      ],
      "metadata": {
        "id": "1kuRzPvsBLvl"
      },
      "execution_count": null,
      "outputs": []
    },
    {
      "cell_type": "code",
      "source": [
        "%%writefile mapper.py\n",
        "#!/usr/bin/env python\n",
        "\n",
        "import sys\n",
        "\n",
        "for line in sys.stdin:\n",
        "    fields = line.strip().split(\"::\")\n",
        "    if len(fields) == 5:\n",
        "        movie_id, movie_name, tags = fields[1], fields[2], fields[3].split(\",\")\n",
        "        for tag in tags:\n",
        "            print('%s\\t%s\\t%s' % (movie_id, movie_name, tag))"
      ],
      "metadata": {
        "id": "NXvXT2u69FZs"
      },
      "execution_count": null,
      "outputs": []
    },
    {
      "cell_type": "code",
      "source": [
        "%%writefile reducer.py\n",
        "#!/usr/bin/env python\n",
        "\n",
        "import sys\n",
        "\n",
        "# Initialize variables\n",
        "rows = {}\n",
        "\n",
        "# Print column names\n",
        "print('{:<10} {:<60} {:<20}'.format(\"MovieID\", \"Moviename\", \"Tags\"))\n",
        "print()\n",
        "\n",
        "# Input comes from STDIN\n",
        "for line in sys.stdin:\n",
        "    # Split the line into movie_id, movie_name, and tag\n",
        "    movie_id, movie_name, tag = line.strip().split('\\t')\n",
        "\n",
        "    # Add movie_name and tag to the rows dictionary\n",
        "    if movie_id in rows:\n",
        "        rows[movie_id][1] += f\", {tag}\"  # Concatenate tags\n",
        "    else:\n",
        "        rows[movie_id] = [movie_name, tag]\n",
        "\n",
        "# Output the table format\n",
        "\n",
        "for movie_id, (movie_name, tags) in rows.items():\n",
        "    print('{:<10} {:<60} {:<20}'.format(movie_id, movie_name, tags))\n"
      ],
      "metadata": {
        "id": "C07ip_lczL7c"
      },
      "execution_count": null,
      "outputs": []
    },
    {
      "cell_type": "code",
      "source": [
        "!hdfs dfs -mkdir input"
      ],
      "metadata": {
        "id": "gRt88Sde-lHJ"
      },
      "execution_count": null,
      "outputs": []
    },
    {
      "cell_type": "code",
      "source": [
        "!hdfs dfs -mv movie_lens_data.txt input/"
      ],
      "metadata": {
        "id": "gCMg_d2AQgzr"
      },
      "execution_count": null,
      "outputs": []
    },
    {
      "cell_type": "code",
      "source": [
        "!hdfs dfs -cat input/movie_lens_data.txt"
      ],
      "metadata": {
        "id": "RJHtXstEQx7o"
      },
      "execution_count": null,
      "outputs": []
    },
    {
      "cell_type": "code",
      "source": [
        "!hadoop jar /content/hadoop-3.3.6/share/hadoop/tools/lib/hadoop-streaming-3.3.6.jar \\\n",
        "    -files mapper.py,reducer.py \\\n",
        "    -mapper mapper.py \\\n",
        "    -reducer reducer.py \\\n",
        "    -input input \\\n",
        "    -output output"
      ],
      "metadata": {
        "id": "HHmZWpZo-v7I"
      },
      "execution_count": null,
      "outputs": []
    },
    {
      "cell_type": "code",
      "source": [
        "!cat output/part-00000"
      ],
      "metadata": {
        "id": "-HL2Wbhy_LJZ"
      },
      "execution_count": null,
      "outputs": []
    }
  ]
}