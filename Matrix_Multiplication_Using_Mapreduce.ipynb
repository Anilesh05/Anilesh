{
  "nbformat": 4,
  "nbformat_minor": 0,
  "metadata": {
    "colab": {
      "provenance": [],
      "authorship_tag": "ABX9TyMZGvVuNLWGueeHUwryN5SL",
      "include_colab_link": true
    },
    "kernelspec": {
      "name": "python3",
      "display_name": "Python 3"
    },
    "language_info": {
      "name": "python"
    }
  },
  "cells": [
    {
      "cell_type": "markdown",
      "metadata": {
        "id": "view-in-github",
        "colab_type": "text"
      },
      "source": [
        "<a href=\"https://colab.research.google.com/github/BCA-DS/Big_Data_Analytics_Lab_Exam/blob/main/Matrix_Multiplication_Using_Mapreduce.ipynb\" target=\"_parent\"><img src=\"https://colab.research.google.com/assets/colab-badge.svg\" alt=\"Open In Colab\"/></a>"
      ]
    },
    {
      "cell_type": "markdown",
      "source": [
        "# ***Download and install hadoop***"
      ],
      "metadata": {
        "id": "BPJXWgx7hu12"
      }
    },
    {
      "cell_type": "code",
      "execution_count": null,
      "metadata": {
        "id": "N8ajKr3Ew67N"
      },
      "outputs": [],
      "source": [
        "!apt-get install openjdk-8-jdk\n",
        "!wget https://dlcdn.apache.org/hadoop/common/hadoop-3.3.6/hadoop-3.3.6.tar.gz\n",
        "!tar fx hadoop-3.3.6.tar.gz\n",
        "import os\n",
        "os.environ[\"JAVA_HOME\"] = \"/usr/lib/jvm/java-8-openjdk-amd64\"\n",
        "os.environ[\"HADOOP_HOME\"] = \"/content/hadoop-3.3.6\"\n",
        "!ln -s /content/hadoop-3.3.6/bin/* /usr/bin"
      ]
    },
    {
      "cell_type": "markdown",
      "source": [
        "# ***Create matrix.txt file***"
      ],
      "metadata": {
        "id": "_5eHcyZWs5MO"
      }
    },
    {
      "cell_type": "code",
      "source": [
        "%%writefile matrix.txt\n",
        "\n",
        "A,0,0,0.0\n",
        "A,0,1,1.0\n",
        "A,0,2,2.0\n",
        "A,0,3,3.0\n",
        "A,0,4,4.0\n",
        "A,1,0,5.0\n",
        "A,1,1,6.0\n",
        "A,1,2,7.0\n",
        "A,1,3,8.0\n",
        "A,1,4,9.0\n",
        "B,0,0,0.0\n",
        "B,0,1,1.0\n",
        "B,0,2,2.0\n",
        "B,1,0,3.0\n",
        "B,1,1,4.0\n",
        "B,1,2,5.0\n",
        "B,2,0,6.0\n",
        "B,2,1,7.0\n",
        "B,2,2,8.0\n",
        "B,3,0,9.0\n",
        "B,3,1,10.0\n",
        "B,3,2,11.0\n",
        "B,4,0,12.0\n",
        "B,4,1,13.0\n",
        "B,4,2,14.0"
      ],
      "metadata": {
        "id": "2O1dIFCgnAlN"
      },
      "execution_count": null,
      "outputs": []
    },
    {
      "cell_type": "code",
      "source": [
        "%%writefile mapper.py\n",
        "#!/usr/bin/env python\n",
        "import sys\n",
        "\n",
        "m = 2\n",
        "p = 3\n",
        "\n",
        "for line in sys.stdin:\n",
        "    line = line.strip()\n",
        "    entry = line.split(\",\")\n",
        "    if len(entry) == 4:\n",
        "        row = int(entry[1])\n",
        "        col = int(entry[2])\n",
        "        value = float(entry[3])\n",
        "        if entry[0] == \"A\":\n",
        "            for k in range(p):\n",
        "                print('{0:d},{1:d}\\tA,{2:d},{3:f}'.format(row, k, col, value))\n",
        "        elif entry[0] == \"B\":\n",
        "            for k in range(m):\n",
        "                print('{0:d},{1:d}\\tB,{2:d},{3:f}'.format(k, col, row, value))"
      ],
      "metadata": {
        "id": "zB7IxlKYpHYS"
      },
      "execution_count": null,
      "outputs": []
    },
    {
      "cell_type": "code",
      "source": [
        "%%writefile reducer.py\n",
        "#!/usr/bin/env python\n",
        "\n",
        "import sys\n",
        "\n",
        "n = 5\n",
        "\n",
        "current_key = None\n",
        "current_res = 0.0\n",
        "value_dict = {}\n",
        "\n",
        "for line in sys.stdin:\n",
        "    line = line.strip()\n",
        "\n",
        "    key, value = line.split('\\t', 1)\n",
        "\n",
        "    try:\n",
        "        row, col = map(int, key.split(','))\n",
        "        value = value.split(',')\n",
        "        replicate_key, element_value = int(value[1]), float(value[2])\n",
        "        key = (row, col)\n",
        "    except:\n",
        "        continue\n",
        "\n",
        "    if key == current_key:\n",
        "        if replicate_key not in value_dict:\n",
        "            value_dict[replicate_key] = [element_value]\n",
        "        else:\n",
        "            value_dict[replicate_key].append(element_value)\n",
        "\n",
        "    else:\n",
        "        if current_key:\n",
        "            for j in range(n):\n",
        "                if j in value_dict and len(value_dict[j]) == 2:\n",
        "                    current_res += value_dict[j][0] * value_dict[j][1]\n",
        "            print('({0:d},{1:d}),{2:f}'.format(row, col, current_res))\n",
        "\n",
        "        current_key = key\n",
        "        value_dict = {}\n",
        "\n",
        "        value_dict[replicate_key] = [element_value]\n",
        "        current_res = 0.0\n",
        "\n",
        "if current_key:\n",
        "    for j in range(n):\n",
        "        if j in value_dict and len(value_dict[j]) == 2:\n",
        "            current_res += value_dict[j][0] * value_dict[j][1]\n",
        "    print('({0:d},{1:d}),{2:f}'.format(row, col, current_res))"
      ],
      "metadata": {
        "id": "bW8nIIYjm9Wr"
      },
      "execution_count": null,
      "outputs": []
    },
    {
      "cell_type": "code",
      "source": [
        "!hdfs dfs -mkdir input"
      ],
      "metadata": {
        "id": "gRt88Sde-lHJ"
      },
      "execution_count": null,
      "outputs": []
    },
    {
      "cell_type": "code",
      "source": [
        "!hdfs dfs -mv matrix.txt input/"
      ],
      "metadata": {
        "id": "gCMg_d2AQgzr"
      },
      "execution_count": null,
      "outputs": []
    },
    {
      "cell_type": "code",
      "source": [
        "!hdfs dfs -cat input/matrix.txt"
      ],
      "metadata": {
        "id": "RJHtXstEQx7o"
      },
      "execution_count": null,
      "outputs": []
    },
    {
      "cell_type": "code",
      "source": [
        "!hadoop jar /content/hadoop-3.3.6/share/hadoop/tools/lib/hadoop-streaming-3.3.6.jar \\\n",
        "    -files mapper.py,reducer.py \\\n",
        "    -mapper mapper.py \\\n",
        "    -reducer reducer.py \\\n",
        "    -input input \\\n",
        "    -output output"
      ],
      "metadata": {
        "id": "HHmZWpZo-v7I"
      },
      "execution_count": null,
      "outputs": []
    },
    {
      "cell_type": "code",
      "source": [
        "!cat output/part-00000"
      ],
      "metadata": {
        "id": "-HL2Wbhy_LJZ"
      },
      "execution_count": null,
      "outputs": []
    }
  ]
}