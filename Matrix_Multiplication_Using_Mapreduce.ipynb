{
  "nbformat": 4,
  "nbformat_minor": 0,
  "metadata": {
    "colab": {
      "provenance": [],
      "authorship_tag": "ABX9TyM4DmHJm3JUyx4B3Dnj1xIr",
      "include_colab_link": true
    },
    "kernelspec": {
      "name": "python3",
      "display_name": "Python 3"
    },
    "language_info": {
      "name": "python"
    }
  },
  "cells": [
    {
      "cell_type": "markdown",
      "metadata": {
        "id": "view-in-github",
        "colab_type": "text"
      },
      "source": [
        "<a href=\"https://colab.research.google.com/github/Anilesh05/Anilesh/blob/main/Matrix_Multiplication_Using_Mapreduce.ipynb\" target=\"_parent\"><img src=\"https://colab.research.google.com/assets/colab-badge.svg\" alt=\"Open In Colab\"/></a>"
      ]
    },
    {
      "cell_type": "markdown",
      "source": [
        "# ***Download and install hadoop***"
      ],
      "metadata": {
        "id": "BPJXWgx7hu12"
      }
    },
    {
      "cell_type": "code",
      "execution_count": null,
      "metadata": {
        "id": "N8ajKr3Ew67N"
      },
      "outputs": [],
      "source": [
        "!apt-get install openjdk-8-jdk\n",
        "!wget https://dlcdn.apache.org/hadoop/common/hadoop-3.3.6/hadoop-3.3.6.tar.gz\n",
        "!tar fx hadoop-3.3.6.tar.gz\n",
        "import os\n",
        "os.environ[\"JAVA_HOME\"] = \"/usr/lib/jvm/java-8-openjdk-amd64\"\n",
        "os.environ[\"HADOOP_HOME\"] = \"/content/hadoop-3.3.6\"\n",
        "!ln -s /content/hadoop-3.3.6/bin/* /usr/bin"
      ]
    },
    {
      "cell_type": "markdown",
      "source": [
        "# ***Create matrix.txt file***"
      ],
      "metadata": {
        "id": "_5eHcyZWs5MO"
      }
    },
    {
      "cell_type": "code",
      "source": [
        "%%writefile matrix.txt\n",
        "\n",
        "A,0,0,0.0\n",
        "A,0,1,1.0\n",
        "A,0,2,2.0\n",
        "A,0,3,3.0\n",
        "A,0,4,4.0\n",
        "A,1,0,5.0\n",
        "A,1,1,6.0\n",
        "A,1,2,7.0\n",
        "A,1,3,8.0\n",
        "A,1,4,9.0\n",
        "B,0,0,0.0\n",
        "B,0,1,1.0\n",
        "B,0,2,2.0\n",
        "B,1,0,3.0\n",
        "B,1,1,4.0\n",
        "B,1,2,5.0\n",
        "B,2,0,6.0\n",
        "B,2,1,7.0\n",
        "B,2,2,8.0\n",
        "B,3,0,9.0\n",
        "B,3,1,10.0\n",
        "B,3,2,11.0\n",
        "B,4,0,12.0\n",
        "B,4,1,13.0\n",
        "B,4,2,14.0"
      ],
      "metadata": {
        "id": "2O1dIFCgnAlN"
      },
      "execution_count": null,
      "outputs": []
    },
    {
      "cell_type": "code",
      "source": [
        "%%writefile mapper.py\n",
        "#!/usr/bin/env python\n",
        "import sys\n",
        "\n",
        "# Number of rows in A\n",
        "m = 2\n",
        "# Number of columns in B\n",
        "p = 3\n",
        "\n",
        "# Read input from standard input\n",
        "for line in sys.stdin:\n",
        "    # Remove leading and trailing whitespace\n",
        "    line = line.strip()\n",
        "    # Split the line into entry data\n",
        "    entry = line.split(\",\")\n",
        "    # Check if the entry has the expected number of elements\n",
        "    if len(entry) == 4:\n",
        "        # Set row, column, and value for this entry\n",
        "        row = int(entry[1])\n",
        "        col = int(entry[2])\n",
        "        value = float(entry[3])\n",
        "        # Check if this is an entry in matrix A\n",
        "        if entry[0] == \"A\":\n",
        "            # Generate the necessary key-value pairs\n",
        "            for k in range(p):\n",
        "                print('{0:d},{1:d}\\tA,{2:d},{3:f}'.format(row, k, col, value))\n",
        "        # Check if this is an entry in matrix B\n",
        "        elif entry[0] == \"B\":\n",
        "            # Generate the necessary key-value pairs\n",
        "            for k in range(m):\n",
        "                print('{0:d},{1:d}\\tB,{2:d},{3:f}'.format(k, col, row, value))"
      ],
      "metadata": {
        "id": "zB7IxlKYpHYS"
      },
      "execution_count": null,
      "outputs": []
    },
    {
      "cell_type": "code",
      "source": [
        "%%writefile reducer.py\n",
        "#!/usr/bin/env python\n",
        "\n",
        "import sys\n",
        "\n",
        "# Number of columns of A/rows of B\n",
        "n = 5\n",
        "\n",
        "# Create data structures to hold the current row/column values\n",
        "current_key = None\n",
        "current_res = 0.0\n",
        "value_dict = {}\n",
        "\n",
        "# Input comes from STDIN (stream data that goes to the program)\n",
        "for line in sys.stdin:\n",
        "    # Remove leading and trailing whitespace\n",
        "    line = line.strip()\n",
        "\n",
        "    # Get key/value\n",
        "    key, value = line.split('\\t', 1)\n",
        "\n",
        "    # Parse key/value input\n",
        "    try:\n",
        "        row, col = map(int, key.split(','))\n",
        "        value = value.split(',')\n",
        "        replicate_key, element_value = int(value[1]), float(value[2])\n",
        "        key = (row, col)\n",
        "    except:\n",
        "        continue\n",
        "\n",
        "    # If we are still on the same key...\n",
        "    if key == current_key:\n",
        "        # Process key/value pair\n",
        "        if replicate_key not in value_dict:\n",
        "            value_dict[replicate_key] = [element_value]\n",
        "        else:\n",
        "            value_dict[replicate_key].append(element_value)\n",
        "\n",
        "    # Otherwise, if this is a new key...\n",
        "    else:\n",
        "        # If this is a new key and not the first key we've seen\n",
        "        if current_key:\n",
        "            # Compute/output result to STDOUT\n",
        "            for j in range(n):\n",
        "                if j in value_dict and len(value_dict[j]) == 2:\n",
        "                    current_res += value_dict[j][0] * value_dict[j][1]\n",
        "            print('({0:d},{1:d}),{2:f}'.format(row, col, current_res))\n",
        "\n",
        "        current_key = key\n",
        "        value_dict = {}\n",
        "\n",
        "        # Process input for new key\n",
        "        value_dict[replicate_key] = [element_value]\n",
        "        current_res = 0.0\n",
        "\n",
        "# Compute/output result for the last key\n",
        "if current_key:\n",
        "    for j in range(n):\n",
        "        if j in value_dict and len(value_dict[j]) == 2:\n",
        "            current_res += value_dict[j][0] * value_dict[j][1]\n",
        "    print('({0:d},{1:d}),{2:f}'.format(row, col, current_res))\n"
      ],
      "metadata": {
        "id": "bW8nIIYjm9Wr"
      },
      "execution_count": null,
      "outputs": []
    },
    {
      "cell_type": "code",
      "source": [
        "!hdfs dfs -mkdir input"
      ],
      "metadata": {
        "id": "gRt88Sde-lHJ"
      },
      "execution_count": null,
      "outputs": []
    },
    {
      "cell_type": "code",
      "source": [
        "!hdfs dfs -mv matrix.txt input/"
      ],
      "metadata": {
        "id": "gCMg_d2AQgzr"
      },
      "execution_count": null,
      "outputs": []
    },
    {
      "cell_type": "code",
      "source": [
        "!hdfs dfs -cat input/matrix.txt"
      ],
      "metadata": {
        "id": "RJHtXstEQx7o"
      },
      "execution_count": null,
      "outputs": []
    },
    {
      "cell_type": "code",
      "source": [
        "!hadoop jar /content/hadoop-3.3.6/share/hadoop/tools/lib/hadoop-streaming-3.3.6.jar \\\n",
        "    -files mapper.py,reducer.py \\\n",
        "    -mapper mapper.py \\\n",
        "    -reducer reducer.py \\\n",
        "    -input input \\\n",
        "    -output output"
      ],
      "metadata": {
        "id": "HHmZWpZo-v7I"
      },
      "execution_count": null,
      "outputs": []
    },
    {
      "cell_type": "code",
      "source": [
        "!cat output/part-00000"
      ],
      "metadata": {
        "id": "-HL2Wbhy_LJZ"
      },
      "execution_count": null,
      "outputs": []
    }
  ]
}