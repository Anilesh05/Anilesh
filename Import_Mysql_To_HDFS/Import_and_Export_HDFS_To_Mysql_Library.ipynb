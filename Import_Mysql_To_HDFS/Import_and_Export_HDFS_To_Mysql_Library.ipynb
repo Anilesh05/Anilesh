{
  "nbformat": 4,
  "nbformat_minor": 0,
  "metadata": {
    "colab": {
      "provenance": [],
      "authorship_tag": "ABX9TyMFulKpJSmP/FPskRiuqU5j",
      "include_colab_link": true
    },
    "kernelspec": {
      "name": "python3",
      "display_name": "Python 3"
    },
    "language_info": {
      "name": "python"
    }
  },
  "cells": [
    {
      "cell_type": "markdown",
      "metadata": {
        "id": "view-in-github",
        "colab_type": "text"
      },
      "source": [
        "<a href=\"https://colab.research.google.com/github/Anilesh05/Anilesh/blob/main/Import_Mysql_To_HDFS.ipynb\" target=\"_parent\"><img src=\"https://colab.research.google.com/assets/colab-badge.svg\" alt=\"Open In Colab\"/></a>"
      ]
    },
    {
      "cell_type": "markdown",
      "source": [
        "# ***Installing jdk and hadoop***"
      ],
      "metadata": {
        "id": "vGkDFef-3zQh"
      }
    },
    {
      "cell_type": "code",
      "execution_count": null,
      "metadata": {
        "id": "KoauV0adsTkV"
      },
      "outputs": [],
      "source": [
        "!apt-get install openjdk-8-jdk\n",
        "!wget https://dlcdn.apache.org/hadoop/common/hadoop-2.10.2/hadoop-2.10.2.tar.gz\n",
        "!tar xf hadoop-2.10.2.tar.gz\n",
        "\n",
        "import os\n",
        "os.environ[\"JAVA_HOME\"] = \"/usr/lib/jvm/java-8-openjdk-amd64\"\n",
        "os.environ[\"HADOOP_HOME\"] = \"/content/hadoop-2.10.2\"\n",
        "os.environ[\"HADOOP_COMMON_HOME\"] = \"/content/hadoop-2.10.2\"\n",
        "os.environ[\"HADOOP_MAPRED_HOME\"] = \"/content/hadoop-2.10.2\"\n",
        "os.environ[\"PATH\"] = os.environ[\"HADOOP_HOME\"] + \"/bin:\" + os.environ[\"PATH\"]\n"
      ]
    },
    {
      "cell_type": "markdown",
      "source": [
        "# ***Installing sqoop***"
      ],
      "metadata": {
        "id": "JNqdcQ1I3hur"
      }
    },
    {
      "cell_type": "code",
      "source": [
        "!wget https://archive.apache.org/dist/sqoop/1.4.6/sqoop-1.4.6.bin__hadoop-2.0.4-alpha.tar.gz\n",
        "!tar -xvf sqoop-1.4.6.bin__hadoop-2.0.4-alpha.tar.gz\n",
        "\n",
        "import os\n",
        "os.environ[\"SQOOP_HOME\"] = \"/content/sqoop-1.4.6.bin__hadoop-2.0.4-alpha\"\n",
        "os.environ[\"PATH\"] = os.environ[\"SQOOP_HOME\"] + \"/bin:\" + os.environ[\"PATH\"]\n",
        "\n",
        "!cp /content/sqoop-1.4.6.bin__hadoop-2.0.4-alpha/conf/sqoop-env-template.sh /content/sqoop-1.4.6.bin__hadoop-2.0.4-alpha/conf/sqoop-env.sh\n",
        "!echo \"export HADOOP_COMMON_HOME=/content/hadoop-2.10.2\" >> /content/sqoop-1.4.6.bin__hadoop-2.0.4-alpha/conf/sqoop-env.sh\n",
        "!echo \"export HADOOP_MAPRED_HOME=/content/hadoop-2.10.2\" >> /content/sqoop-1.4.6.bin__hadoop-2.0.4-alpha/sqoop-env.sh"
      ],
      "metadata": {
        "id": "iefFNUqSyTdV"
      },
      "execution_count": null,
      "outputs": []
    },
    {
      "cell_type": "markdown",
      "source": [
        "# ***Installing Mysql-Connector***"
      ],
      "metadata": {
        "id": "fbP_r2Gz3NKE"
      }
    },
    {
      "cell_type": "code",
      "source": [
        "!wget https://dev.mysql.com/get/Downloads/Connector-J/mysql-connector-j-8.3.0.tar.gz\n",
        "!tar xf mysql-connector-j-8.3.0.tar.gz\n",
        "!cp /content/mysql-connector-j-8.3.0/mysql-connector-j-8.3.0.jar /content/sqoop-1.4.6.bin__hadoop-2.0.4-alpha/lib"
      ],
      "metadata": {
        "id": "R2NGGvtzyhjb"
      },
      "execution_count": null,
      "outputs": []
    },
    {
      "cell_type": "markdown",
      "source": [
        "# ***Installing Mysql Server***\n"
      ],
      "metadata": {
        "id": "I87znuwZ2f9b"
      }
    },
    {
      "cell_type": "code",
      "source": [
        "!apt-get -y install mysql-server\n",
        "!service mysql start\n",
        "!pip install mysql-connector-python\n",
        "!mysql -e \"ALTER USER 'root'@'localhost' IDENTIFIED WITH 'mysql_native_password' BY 'root';FLUSH PRIVILEGES;\""
      ],
      "metadata": {
        "id": "rlhJFIe-yltk"
      },
      "execution_count": null,
      "outputs": []
    },
    {
      "cell_type": "code",
      "source": [
        "!java -version\n",
        "!hadoop version\n",
        "!mysql --version\n",
        "!sqoop version"
      ],
      "metadata": {
        "id": "dwMFRwwWy8Zm"
      },
      "execution_count": null,
      "outputs": []
    },
    {
      "cell_type": "code",
      "source": [
        "!hdfs dfs -mkdir input"
      ],
      "metadata": {
        "id": "eOJaeV2Ly-bZ"
      },
      "execution_count": null,
      "outputs": []
    },
    {
      "cell_type": "code",
      "source": [
        "import mysql.connector\n",
        "from tabulate import tabulate\n",
        "\n",
        "conn = mysql.connector.connect(user='root', password='root', host='localhost', port='3306')\n",
        "\n",
        "cursor = conn.cursor()\n",
        "cursor.execute(\"CREATE DATABASE IF NOT EXISTS library\")\n",
        "\n",
        "cursor.execute(\"USE library\")\n",
        "\n",
        "cursor.execute('''\n",
        "CREATE TABLE books (\n",
        "    id INT PRIMARY KEY,\n",
        "    title VARCHAR(255),\n",
        "    author VARCHAR(255),\n",
        "    year_published INT\n",
        ")\n",
        "''')\n",
        "\n",
        "books_data = [\n",
        "    (1,\"To Kill a Mockingbird\", \"Harper Lee\", 1960),\n",
        "    (2,\"1984\", \"George Orwell\", 1949),\n",
        "    (3,\"The Great Gatsby\", \"F. Scott Fitzgerald\", 1925)\n",
        "]\n",
        "\n",
        "cursor.executemany('''\n",
        "INSERT INTO books (id,title, author, year_published) VALUES (%s,%s, %s, %s)\n",
        "''', books_data)\n",
        "\n",
        "conn.commit()\n",
        "\n",
        "cursor.execute(\"SELECT * FROM books\")\n",
        "\n",
        "records = cursor.fetchall()\n",
        "\n",
        "columns = [desc[0] for desc in cursor.description]\n",
        "\n",
        "print(tabulate(records, headers=columns, tablefmt=\"grid\"))\n",
        "\n",
        "cursor.close()\n",
        "conn.close()"
      ],
      "metadata": {
        "id": "WynPEeXNzNtf"
      },
      "execution_count": null,
      "outputs": []
    },
    {
      "cell_type": "code",
      "source": [
        "!sqoop import \\\n",
        "  --connect jdbc:mysql://localhost:3306/library \\\n",
        "  --username root \\\n",
        "  --password root \\\n",
        "  --table books \\\n",
        "  --target-dir input/mysql_book \\\n",
        "  --m 1"
      ],
      "metadata": {
        "id": "JxTRmIt5zXMK"
      },
      "execution_count": null,
      "outputs": []
    },
    {
      "cell_type": "code",
      "source": [
        "!hdfs dfs -ls input/mysql_book"
      ],
      "metadata": {
        "id": "z6FzhiiyzcRt"
      },
      "execution_count": null,
      "outputs": []
    },
    {
      "cell_type": "code",
      "source": [
        "!hdfs dfs -cat input/mysql_book/part-m-00000"
      ],
      "metadata": {
        "id": "AezaE36VzpEq"
      },
      "execution_count": null,
      "outputs": []
    }
  ]
}
